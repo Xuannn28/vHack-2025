{
 "cells": [
  {
   "cell_type": "code",
   "execution_count": 1,
   "metadata": {},
   "outputs": [
    {
     "data": {
      "text/plain": [
       "'Current BTCUSDT price: $81945.51000000'"
      ]
     },
     "execution_count": 1,
     "metadata": {},
     "output_type": "execute_result"
    }
   ],
   "source": [
    "import requests\n",
    "\n",
    "def get_price(symbol=\"BTCUSDT\"):\n",
    "    url = f\"https://api.binance.com/api/v3/ticker/price?symbol={symbol}\"\n",
    "    response = requests.get(url)\n",
    "    \n",
    "    if response.status_code == 200:\n",
    "        data = response.json()\n",
    "        return f\"Current {symbol} price: ${data['price']}\"\n",
    "    else:\n",
    "        return \"Error:\", response.json()\n",
    "\n",
    "# Example usage\n",
    "get_price(\"BTCUSDT\")  # Get Bitcoin price"
   ]
  },
  {
   "cell_type": "code",
   "execution_count": null,
   "metadata": {},
   "outputs": [
    {
     "data": {
      "text/html": [
       "<div>\n",
       "<style scoped>\n",
       "    .dataframe tbody tr th:only-of-type {\n",
       "        vertical-align: middle;\n",
       "    }\n",
       "\n",
       "    .dataframe tbody tr th {\n",
       "        vertical-align: top;\n",
       "    }\n",
       "\n",
       "    .dataframe thead th {\n",
       "        text-align: right;\n",
       "    }\n",
       "</style>\n",
       "<table border=\"1\" class=\"dataframe\">\n",
       "  <thead>\n",
       "    <tr style=\"text-align: right;\">\n",
       "      <th></th>\n",
       "      <th>timestamp</th>\n",
       "      <th>open</th>\n",
       "      <th>high</th>\n",
       "      <th>low</th>\n",
       "      <th>close</th>\n",
       "      <th>volume</th>\n",
       "    </tr>\n",
       "  </thead>\n",
       "  <tbody>\n",
       "    <tr>\n",
       "      <th>0</th>\n",
       "      <td>2025-03-14 01:00:00</td>\n",
       "      <td>81503.31000000</td>\n",
       "      <td>81876.17000000</td>\n",
       "      <td>81206.04000000</td>\n",
       "      <td>81603.08000000</td>\n",
       "      <td>506.51801000</td>\n",
       "    </tr>\n",
       "    <tr>\n",
       "      <th>1</th>\n",
       "      <td>2025-03-14 02:00:00</td>\n",
       "      <td>81603.07000000</td>\n",
       "      <td>82270.51000000</td>\n",
       "      <td>81588.51000000</td>\n",
       "      <td>82226.98000000</td>\n",
       "      <td>714.90216000</td>\n",
       "    </tr>\n",
       "    <tr>\n",
       "      <th>2</th>\n",
       "      <td>2025-03-14 03:00:00</td>\n",
       "      <td>82226.98000000</td>\n",
       "      <td>82247.70000000</td>\n",
       "      <td>81708.96000000</td>\n",
       "      <td>81888.77000000</td>\n",
       "      <td>803.86317000</td>\n",
       "    </tr>\n",
       "    <tr>\n",
       "      <th>3</th>\n",
       "      <td>2025-03-14 04:00:00</td>\n",
       "      <td>81888.77000000</td>\n",
       "      <td>82040.00000000</td>\n",
       "      <td>81841.99000000</td>\n",
       "      <td>81948.16000000</td>\n",
       "      <td>371.30991000</td>\n",
       "    </tr>\n",
       "    <tr>\n",
       "      <th>4</th>\n",
       "      <td>2025-03-14 05:00:00</td>\n",
       "      <td>81948.17000000</td>\n",
       "      <td>82000.00000000</td>\n",
       "      <td>81820.22000000</td>\n",
       "      <td>81923.97000000</td>\n",
       "      <td>164.97784000</td>\n",
       "    </tr>\n",
       "  </tbody>\n",
       "</table>\n",
       "</div>"
      ],
      "text/plain": [
       "            timestamp            open            high             low  \\\n",
       "0 2025-03-14 01:00:00  81503.31000000  81876.17000000  81206.04000000   \n",
       "1 2025-03-14 02:00:00  81603.07000000  82270.51000000  81588.51000000   \n",
       "2 2025-03-14 03:00:00  82226.98000000  82247.70000000  81708.96000000   \n",
       "3 2025-03-14 04:00:00  81888.77000000  82040.00000000  81841.99000000   \n",
       "4 2025-03-14 05:00:00  81948.17000000  82000.00000000  81820.22000000   \n",
       "\n",
       "            close        volume  \n",
       "0  81603.08000000  506.51801000  \n",
       "1  82226.98000000  714.90216000  \n",
       "2  81888.77000000  803.86317000  \n",
       "3  81948.16000000  371.30991000  \n",
       "4  81923.97000000  164.97784000  "
      ]
     },
     "execution_count": 2,
     "metadata": {},
     "output_type": "execute_result"
    }
   ],
   "source": [
    "import pandas as pd\n",
    "import requests\n",
    "\n",
    "# limit = 10: get the last 10 candlestick\n",
    "def get_ohlc(symbol=\"BTCUSDT\", interval=\"1h\", limit=10):\n",
    "    url = f\"https://api.binance.com/api/v3/klines?symbol={symbol}&interval={interval}&limit={limit}\"\n",
    "    response = requests.get(url)\n",
    "    \n",
    "    if response.status_code == 200:\n",
    "        data = response.json()\n",
    "        \n",
    "        # Convert to DataFrame\n",
    "        df = pd.DataFrame(data, columns=[\n",
    "            \"timestamp\", \"open\", \"high\", \"low\", \"close\", \"volume\",\n",
    "            \"close_time\", \"quote_asset_volume\", \"trades\",\n",
    "            \"taker_buy_base\", \"taker_buy_quote\", \"ignore\"\n",
    "        ])\n",
    "        \n",
    "        # Convert timestamp to readable format\n",
    "        df[\"timestamp\"] = pd.to_datetime(df[\"timestamp\"], unit=\"ms\")\n",
    "        \n",
    "        # Keep only relevant columns\n",
    "        df = df[[\"timestamp\", \"open\", \"high\", \"low\", \"close\", \"volume\"]]\n",
    "        return df\n",
    "    \n",
    "    else:\n",
    "        return \"Error:\", response.json()\n",
    "\n",
    "# Example usage\n",
    "ohlc_data = get_ohlc(\"BTCUSDT\", \"1h\", 5)\n",
    "ohlc_data"
   ]
  }
 ],
 "metadata": {
  "kernelspec": {
   "display_name": "Python 3",
   "language": "python",
   "name": "python3"
  },
  "language_info": {
   "codemirror_mode": {
    "name": "ipython",
    "version": 3
   },
   "file_extension": ".py",
   "mimetype": "text/x-python",
   "name": "python",
   "nbconvert_exporter": "python",
   "pygments_lexer": "ipython3",
   "version": "3.11.9"
  }
 },
 "nbformat": 4,
 "nbformat_minor": 2
}
