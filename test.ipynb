{
 "cells": [
  {
   "cell_type": "code",
   "execution_count": 3,
   "metadata": {},
   "outputs": [
    {
     "data": {
      "text/plain": [
       "'Current BTCUSDT price: $81945.51000000'"
      ]
     },
     "execution_count": 1,
     "metadata": {},
     "output_type": "execute_result"
    }
   ],
   "source": [
    "import requests\n",
    "\n",
    "def get_price(symbol=\"BTCUSDT\"):\n",
    "    url = f\"https://api.binance.com/api/v3/ticker/price?symbol={symbol}\"\n",
    "    response = requests.get(url)\n",
    "    \n",
    "    if response.status_code == 200:\n",
    "        data = response.json()\n",
    "        return f\"Current {symbol} price: ${data['price']}\"\n",
    "    else:\n",
    "        return \"Error:\", response.json()\n",
    "\n",
    "# Example usage\n",
    "get_price(\"BTCUSDT\")  # Get Bitcoin price"
   ]
  },
  {
   "cell_type": "code",
   "execution_count": 8,
   "metadata": {},
   "outputs": [
    {
     "data": {
      "text/html": [
       "<div>\n",
       "<style scoped>\n",
       "    .dataframe tbody tr th:only-of-type {\n",
       "        vertical-align: middle;\n",
       "    }\n",
       "\n",
       "    .dataframe tbody tr th {\n",
       "        vertical-align: top;\n",
       "    }\n",
       "\n",
       "    .dataframe thead th {\n",
       "        text-align: right;\n",
       "    }\n",
       "</style>\n",
       "<table border=\"1\" class=\"dataframe\">\n",
       "  <thead>\n",
       "    <tr style=\"text-align: right;\">\n",
       "      <th></th>\n",
       "      <th>timestamp</th>\n",
       "      <th>open</th>\n",
       "      <th>high</th>\n",
       "      <th>low</th>\n",
       "      <th>close</th>\n",
       "      <th>volume</th>\n",
       "    </tr>\n",
       "  </thead>\n",
       "  <tbody>\n",
       "    <tr>\n",
       "      <th>0</th>\n",
       "      <td>2025-03-14 03:00:00</td>\n",
       "      <td>82226.98000000</td>\n",
       "      <td>82247.70000000</td>\n",
       "      <td>81708.96000000</td>\n",
       "      <td>81888.77000000</td>\n",
       "      <td>803.86317000</td>\n",
       "    </tr>\n",
       "    <tr>\n",
       "      <th>1</th>\n",
       "      <td>2025-03-14 04:00:00</td>\n",
       "      <td>81888.77000000</td>\n",
       "      <td>82040.00000000</td>\n",
       "      <td>81841.99000000</td>\n",
       "      <td>81948.16000000</td>\n",
       "      <td>371.30991000</td>\n",
       "    </tr>\n",
       "    <tr>\n",
       "      <th>2</th>\n",
       "      <td>2025-03-14 05:00:00</td>\n",
       "      <td>81948.17000000</td>\n",
       "      <td>82218.03000000</td>\n",
       "      <td>81820.22000000</td>\n",
       "      <td>82141.96000000</td>\n",
       "      <td>622.41868000</td>\n",
       "    </tr>\n",
       "    <tr>\n",
       "      <th>3</th>\n",
       "      <td>2025-03-14 06:00:00</td>\n",
       "      <td>82141.96000000</td>\n",
       "      <td>82191.22000000</td>\n",
       "      <td>81780.08000000</td>\n",
       "      <td>82038.09000000</td>\n",
       "      <td>405.28499000</td>\n",
       "    </tr>\n",
       "    <tr>\n",
       "      <th>4</th>\n",
       "      <td>2025-03-14 07:00:00</td>\n",
       "      <td>82038.09000000</td>\n",
       "      <td>82077.39000000</td>\n",
       "      <td>81895.95000000</td>\n",
       "      <td>82077.38000000</td>\n",
       "      <td>110.24152000</td>\n",
       "    </tr>\n",
       "  </tbody>\n",
       "</table>\n",
       "</div>"
      ],
      "text/plain": [
       "            timestamp            open            high             low  \\\n",
       "0 2025-03-14 03:00:00  82226.98000000  82247.70000000  81708.96000000   \n",
       "1 2025-03-14 04:00:00  81888.77000000  82040.00000000  81841.99000000   \n",
       "2 2025-03-14 05:00:00  81948.17000000  82218.03000000  81820.22000000   \n",
       "3 2025-03-14 06:00:00  82141.96000000  82191.22000000  81780.08000000   \n",
       "4 2025-03-14 07:00:00  82038.09000000  82077.39000000  81895.95000000   \n",
       "\n",
       "            close        volume  \n",
       "0  81888.77000000  803.86317000  \n",
       "1  81948.16000000  371.30991000  \n",
       "2  82141.96000000  622.41868000  \n",
       "3  82038.09000000  405.28499000  \n",
       "4  82077.38000000  110.24152000  "
      ]
     },
     "execution_count": 8,
     "metadata": {},
     "output_type": "execute_result"
    }
   ],
   "source": [
    "import pandas as pd\n",
    "import requests\n",
    "\n",
    "# limit = 10: get the last 10 candlestick\n",
    "def get_ohlc(symbol=\"BTCUSDT\", interval=\"1h\", limit=10):\n",
    "    url = f\"https://api.binance.com/api/v3/klines?symbol={symbol}&interval={interval}&limit={limit}\"\n",
    "    response = requests.get(url)\n",
    "    \n",
    "    if response.status_code == 200:\n",
    "        data = response.json()\n",
    "        \n",
    "        # Convert to DataFrame\n",
    "        df = pd.DataFrame(data, columns=[\n",
    "            \"timestamp\", \"open\", \"high\", \"low\", \"close\", \"volume\",\n",
    "            \"close_time\", \"quote_asset_volume\", \"trades\",\n",
    "            \"taker_buy_base\", \"taker_buy_quote\", \"ignore\"\n",
    "        ])\n",
    "        \n",
    "        # Convert timestamp to readable format\n",
    "        df[\"timestamp\"] = pd.to_datetime(df[\"timestamp\"], unit=\"ms\")\n",
    "        \n",
    "        # Keep only relevant columns\n",
    "        df = df[[\"timestamp\", \"open\", \"high\", \"low\", \"close\", \"volume\"]]\n",
    "        return df\n",
    "    \n",
    "    else:\n",
    "        return \"Error:\", response.json()\n",
    "\n",
    "# Example usage\n",
    "ohlc_data = get_ohlc(\"BTCUSDT\", \"1h\", 5)\n",
    "ohlc_data"
   ]
  },
  {
   "cell_type": "code",
   "execution_count": 13,
   "metadata": {},
   "outputs": [
    {
     "name": "stdout",
     "output_type": "stream",
     "text": [
      "             timestamp     open     high      low    close\n",
      "37 2025-03-13 12:00:00  83201.0  83437.0  82669.0  82828.0\n",
      "38 2025-03-13 16:00:00  82953.0  83426.0  80941.0  80956.0\n",
      "39 2025-03-13 20:00:00  81014.0  81124.0  79948.0  80304.0\n",
      "40 2025-03-14 00:00:00  80218.0  81407.0  80218.0  81099.0\n",
      "41 2025-03-14 04:00:00  81015.0  82087.0  80857.0  81815.0\n"
     ]
    }
   ],
   "source": [
    "import requests\n",
    "import pandas as pd\n",
    "\n",
    "# CoinGecko API URL for OHLC data\n",
    "BASE_URL = \"https://api.coingecko.com/api/v3/coins/bitcoin/ohlc\"\n",
    "\n",
    "params = {\"vs_currency\": \"usd\", \"days\": \"7\"}\n",
    "\n",
    "response = requests.get(BASE_URL, params=params, timeout=10)\n",
    "\n",
    "if response.status_code == 200:\n",
    "    data = response.json()\n",
    "    df = pd.DataFrame(data, columns=[\"timestamp\", \"open\", \"high\", \"low\", \"close\"])\n",
    "    df[\"timestamp\"] = pd.to_datetime(df[\"timestamp\"], unit=\"ms\")\n",
    "    print(df.tail()) \n",
    "else:\n",
    "    print(\"Error fetching data:\", response.json())"
   ]
  },
  {
   "cell_type": "code",
   "execution_count": 12,
   "metadata": {},
   "outputs": [
    {
     "name": "stdout",
     "output_type": "stream",
     "text": [
      "            timestamp        volume\n",
      "3 2025-03-11 00:00:00  4.998369e+10\n",
      "4 2025-03-12 00:00:00  5.640446e+10\n",
      "5 2025-03-13 00:00:00  4.178219e+10\n",
      "6 2025-03-14 00:00:00  3.258359e+10\n",
      "7 2025-03-14 07:54:46  3.007753e+10\n"
     ]
    }
   ],
   "source": [
    "import requests\n",
    "import pandas as pd\n",
    "\n",
    "BASE_URL = \"https://api.coingecko.com/api/v3/coins/bitcoin/market_chart\"\n",
    "\n",
    "params = {\"vs_currency\": \"usd\", \"days\": \"7\", \"interval\": \"daily\"}\n",
    "\n",
    "response = requests.get(BASE_URL, params=params, timeout=10)\n",
    "\n",
    "if response.status_code == 200:\n",
    "    data = response.json()\n",
    "    \n",
    "    df = pd.DataFrame(data[\"total_volumes\"], columns=[\"timestamp\", \"volume\"])\n",
    "    df[\"timestamp\"] = pd.to_datetime(df[\"timestamp\"], unit=\"ms\") \n",
    "    \n",
    "    print(df.tail()) \n",
    "else:\n",
    "    print(\"Error fetching data:\", response.json())\n"
   ]
  }
 ],
 "metadata": {
  "kernelspec": {
   "display_name": "Python 3",
   "language": "python",
   "name": "python3"
  },
  "language_info": {
   "codemirror_mode": {
    "name": "ipython",
    "version": 3
   },
   "file_extension": ".py",
   "mimetype": "text/x-python",
   "name": "python",
   "nbconvert_exporter": "python",
   "pygments_lexer": "ipython3",
   "version": "3.13.1"
  }
 },
 "nbformat": 4,
 "nbformat_minor": 2
}
